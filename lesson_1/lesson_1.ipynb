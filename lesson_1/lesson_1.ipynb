{
 "cells": [
  {
   "cell_type": "markdown",
   "metadata": {},
   "source": [
    "#### Как относятся друг к другу множество и последовательность? (в ответе использовать слова типа: часть, целое, общее, частное, родитель, дочерний субъект и т.д.)\n",
    "\n",
    "\n",
    "\n",
    "Множество может состоять из последовательностей, и элементы множества являются последовательностью.\n",
    "Также последовательность может состоять из множеств.\n"
   ]
  },
  {
   "cell_type": "markdown",
   "metadata": {},
   "source": [
    "### Прочитать высказывания математической логики, построить их отрицания и установить истинность.\n",
    "\n",
    "<img src=\"1.png\">\n"
   ]
  },
  {
   "cell_type": "markdown",
   "metadata": {},
   "source": [
    "для любого y из отрезка [0,1], значение функции sgn от y = 1\n",
    "\n",
    "∃y∈[0,1]:sgn(y)≠1\n",
    "\n",
    "второе истинно\n",
    "\n",
    "для любого n из (множества натуральных чисел, больше двух), \n",
    "существует x,y,z принадлежащие множеству натуральных чисел,\n",
    "для которых верно x встепени n = y в степени n + z в степени n\n",
    " \n",
    " ∃n∈N>2:∀x,y,z∈N:x^n≠y^n+z^n\n",
    " \n",
    " второе истинно\n",
    "\n",
    "для любого х из множества действительных чисел, существует множество X из множества дейтсвительных чисел, такое что X больше x\n",
    "\n",
    "∃x∈R∀X∈R:X≤x\n",
    "\n",
    "первое истинно\n",
    "\n",
    "для любого х из множества комплексных чисел, нет такого у, из множества комплексных чисел, где х больше или меньше у\n",
    " \n",
    " ∃x∈C∃y∈C:x > y||x < y\n",
    " \n",
    " первое истинно\n",
    "                     \n",
    "для любого у из отрезка от 0 до п/2, существует e больше 0, такое, что синус у меньше синуса суммы у и е\n",
    " \n",
    " ∃y∈[0;п/2]∀e>0:sin y ≥ sin(y+e)\n",
    " \n",
    " второе истинно\n",
    "\n",
    "для любого у из полуинтервала от 0 до п включительно существует такое е больше 0, что косинус у, больше косинуса суммы у и е\n",
    " \n",
    " ∃y∈[0;п)∀e > 0:cos y ≤ cos(y + e)\n",
    " \n",
    " первое истинно\n",
    "\n",
    "существует такой х, что х не пренадлежит множеству состоящему из натуральных, целых, действительных, рациональных и комплексных чисел.\n",
    " \n",
    " ∀x:x ∈{N,Z,Q,R,C}\n",
    " \n",
    " первое истинно\n",
    "\n"
   ]
  },
  {
   "cell_type": "markdown",
   "metadata": {},
   "source": [
    "### Даны три множества a,b и с. Необходимо выполнить все изученные виды бинарных операций над всеми комбинациями множеств.\n"
   ]
  },
  {
   "cell_type": "code",
   "execution_count": 1,
   "metadata": {},
   "outputs": [],
   "source": [
    "a = {1,2,3,4,5,9,9}\n",
    "b = set()\n",
    "c = {-1, -3.6, 9}\n"
   ]
  },
  {
   "cell_type": "code",
   "execution_count": 2,
   "metadata": {},
   "outputs": [
    {
     "data": {
      "text/plain": [
       "{9}"
      ]
     },
     "execution_count": 2,
     "metadata": {},
     "output_type": "execute_result"
    }
   ],
   "source": [
    "a.intersection(c)"
   ]
  },
  {
   "cell_type": "code",
   "execution_count": 3,
   "metadata": {},
   "outputs": [
    {
     "data": {
      "text/plain": [
       "set()"
      ]
     },
     "execution_count": 3,
     "metadata": {},
     "output_type": "execute_result"
    }
   ],
   "source": [
    "a.intersection(b)"
   ]
  },
  {
   "cell_type": "code",
   "execution_count": 4,
   "metadata": {},
   "outputs": [
    {
     "data": {
      "text/plain": [
       "set()"
      ]
     },
     "execution_count": 4,
     "metadata": {},
     "output_type": "execute_result"
    }
   ],
   "source": [
    "b.intersection(c)"
   ]
  },
  {
   "cell_type": "code",
   "execution_count": 5,
   "metadata": {},
   "outputs": [
    {
     "data": {
      "text/plain": [
       "{1, 2, 3, 4, 5, 9}"
      ]
     },
     "execution_count": 5,
     "metadata": {},
     "output_type": "execute_result"
    }
   ],
   "source": [
    "a.union(b)"
   ]
  },
  {
   "cell_type": "code",
   "execution_count": 6,
   "metadata": {},
   "outputs": [
    {
     "data": {
      "text/plain": [
       "{-3.6, -1, 1, 2, 3, 4, 5, 9}"
      ]
     },
     "execution_count": 6,
     "metadata": {},
     "output_type": "execute_result"
    }
   ],
   "source": [
    "a.union(c)"
   ]
  },
  {
   "cell_type": "code",
   "execution_count": 7,
   "metadata": {},
   "outputs": [
    {
     "data": {
      "text/plain": [
       "{-3.6, -1, 9}"
      ]
     },
     "execution_count": 7,
     "metadata": {},
     "output_type": "execute_result"
    }
   ],
   "source": [
    "b.union(c)"
   ]
  },
  {
   "cell_type": "code",
   "execution_count": 8,
   "metadata": {},
   "outputs": [
    {
     "data": {
      "text/plain": [
       "{1, 2, 3, 4, 5}"
      ]
     },
     "execution_count": 8,
     "metadata": {},
     "output_type": "execute_result"
    }
   ],
   "source": [
    "a.difference(c)"
   ]
  },
  {
   "cell_type": "code",
   "execution_count": 9,
   "metadata": {},
   "outputs": [
    {
     "data": {
      "text/plain": [
       "{-3.6, -1}"
      ]
     },
     "execution_count": 9,
     "metadata": {},
     "output_type": "execute_result"
    }
   ],
   "source": [
    "c.difference(a)"
   ]
  },
  {
   "cell_type": "code",
   "execution_count": 10,
   "metadata": {},
   "outputs": [
    {
     "data": {
      "text/plain": [
       "set()"
      ]
     },
     "execution_count": 10,
     "metadata": {},
     "output_type": "execute_result"
    }
   ],
   "source": [
    "b.difference(c)"
   ]
  },
  {
   "cell_type": "code",
   "execution_count": 11,
   "metadata": {},
   "outputs": [
    {
     "data": {
      "text/plain": [
       "{-3.6, -1, 9}"
      ]
     },
     "execution_count": 11,
     "metadata": {},
     "output_type": "execute_result"
    }
   ],
   "source": [
    "c.difference(b)"
   ]
  },
  {
   "cell_type": "code",
   "execution_count": 12,
   "metadata": {},
   "outputs": [
    {
     "data": {
      "text/plain": [
       "{1, 2, 3, 4, 5, 9}"
      ]
     },
     "execution_count": 12,
     "metadata": {},
     "output_type": "execute_result"
    }
   ],
   "source": [
    "a.difference(b)"
   ]
  },
  {
   "cell_type": "code",
   "execution_count": 13,
   "metadata": {},
   "outputs": [
    {
     "data": {
      "text/plain": [
       "set()"
      ]
     },
     "execution_count": 13,
     "metadata": {},
     "output_type": "execute_result"
    }
   ],
   "source": [
    "b.difference(a)"
   ]
  },
  {
   "cell_type": "code",
   "execution_count": 14,
   "metadata": {},
   "outputs": [
    {
     "data": {
      "text/plain": [
       "{-3.6, -1, 1, 2, 3, 4, 5}"
      ]
     },
     "execution_count": 14,
     "metadata": {},
     "output_type": "execute_result"
    }
   ],
   "source": [
    "a.symmetric_difference(c)"
   ]
  },
  {
   "cell_type": "code",
   "execution_count": 15,
   "metadata": {},
   "outputs": [
    {
     "data": {
      "text/plain": [
       "{1, 2, 3, 4, 5, 9}"
      ]
     },
     "execution_count": 15,
     "metadata": {},
     "output_type": "execute_result"
    }
   ],
   "source": [
    "a.symmetric_difference(b)"
   ]
  },
  {
   "cell_type": "code",
   "execution_count": 16,
   "metadata": {},
   "outputs": [
    {
     "data": {
      "text/plain": [
       "{-3.6, -1, 9}"
      ]
     },
     "execution_count": 16,
     "metadata": {},
     "output_type": "execute_result"
    }
   ],
   "source": [
    "c.symmetric_difference(b)"
   ]
  },
  {
   "cell_type": "markdown",
   "metadata": {},
   "source": [
    "### Даны 4 последовательности. Необходимо:\n",
    "исследовать их на монотонность; \n",
    "исследовать на ограниченность;\n",
    "найти пятый по счету член.\n",
    "<img src=\"2.png\">\n",
    "\n",
    "\n",
    "\n"
   ]
  },
  {
   "cell_type": "markdown",
   "metadata": {},
   "source": [
    "1 возрастает 2 возрастает 3 возрастает 4 убывает"
   ]
  },
  {
   "cell_type": "markdown",
   "metadata": {},
   "source": [
    "1 неограничена 2 ограничена 3 неограничена 4 ограничена"
   ]
  },
  {
   "cell_type": "markdown",
   "metadata": {},
   "source": [
    "1 $2^5$ - 5 = 27\n",
    "\n",
    "2 1/(1-6)=0.2\n",
    "\n",
    "3 $-1^5$ + v(2*5)=v10-1\n",
    "\n",
    "4 $(-1)^{2*5}$+1/($5^2$)= 1.04"
   ]
  },
  {
   "cell_type": "markdown",
   "metadata": {},
   "source": [
    "Найти 12-й член заданной неявно последовательности\n",
    "<img src=\"3.png\">\n",
    "\n"
   ]
  },
  {
   "cell_type": "markdown",
   "metadata": {},
   "source": [
    "$a_{n+1} = a_n + 6$\n",
    "\n",
    "$a_{n} = a_1 +6(n-1)$\n",
    "\n",
    "$a_{12} = 128 +6*11 =194$\n"
   ]
  },
  {
   "cell_type": "markdown",
   "metadata": {},
   "source": [
    "*На языке Python предложить алгоритм вычисляющий численно предел с точностью \n",
    "<img src=\"4.png\">\n",
    "\n",
    "*Предложить оптимизацию алгоритма, полученного в задании 3, ускоряющую его сходимость."
   ]
  },
  {
   "cell_type": "code",
   "execution_count": 17,
   "metadata": {},
   "outputs": [],
   "source": [
    "from sympy import factorial"
   ]
  },
  {
   "cell_type": "code",
   "execution_count": 18,
   "metadata": {},
   "outputs": [
    {
     "name": "stdout",
     "output_type": "stream",
     "text": [
      "11779\n",
      "2.71698842372422\n"
     ]
    }
   ],
   "source": [
    "def alg(x):\n",
    "    return x/factorial(x)**(1/x)\n",
    "acc = 0.0000001\n",
    "i = 2\n",
    "while alg(i)-alg(i-1)>acc:\n",
    "    i=i+1\n",
    "print(i)\n",
    "print(alg(i))"
   ]
  },
  {
   "cell_type": "code",
   "execution_count": 19,
   "metadata": {},
   "outputs": [
    {
     "name": "stdout",
     "output_type": "stream",
     "text": [
      "11779\n",
      "2.71698842372422\n"
     ]
    }
   ],
   "source": [
    "def alg(x):\n",
    "    return x/factorial(x)**(1/x)\n",
    "acc = 0.0000001\n",
    "i = 2\n",
    "y = 1000\n",
    "while alg(i)-alg(i-1)>acc:\n",
    "    i=i+1\n",
    "y = y//2\n",
    "while y > 1:\n",
    "    if alg(i)-alg(i-1)>acc:\n",
    "        i = i+y\n",
    "        y = y//2\n",
    "    else:\n",
    "        result=i\n",
    "        i= i-y\n",
    "        y = y//2\n",
    "        \n",
    "        \n",
    "print(result)\n",
    "print(alg(result))\n",
    "   "
   ]
  },
  {
   "cell_type": "code",
   "execution_count": null,
   "metadata": {},
   "outputs": [],
   "source": []
  }
 ],
 "metadata": {
  "kernelspec": {
   "display_name": "Python 3",
   "language": "python",
   "name": "python3"
  },
  "language_info": {
   "codemirror_mode": {
    "name": "ipython",
    "version": 3
   },
   "file_extension": ".py",
   "mimetype": "text/x-python",
   "name": "python",
   "nbconvert_exporter": "python",
   "pygments_lexer": "ipython3",
   "version": "3.7.6"
  }
 },
 "nbformat": 4,
 "nbformat_minor": 2
}
